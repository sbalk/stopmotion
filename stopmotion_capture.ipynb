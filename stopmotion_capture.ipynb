{
 "cells": [
  {
   "cell_type": "code",
   "execution_count": 46,
   "metadata": {},
   "outputs": [],
   "source": [
    "import cv2\n",
    "import numpy as np\n",
    "import matplotlib.pyplot as plt\n",
    "import os\n",
    "from pathlib import Path\n",
    "import time\n",
    "%matplotlib inline"
   ]
  },
  {
   "cell_type": "markdown",
   "metadata": {
    "heading_collapsed": true
   },
   "source": [
    "# get file list"
   ]
  },
  {
   "cell_type": "code",
   "execution_count": 47,
   "metadata": {
    "hidden": true
   },
   "outputs": [],
   "source": [
    "def getnum(string):\n",
    "    return int(str(string).split('_')[-1].split('.')[0])"
   ]
  },
  {
   "cell_type": "code",
   "execution_count": 48,
   "metadata": {
    "hidden": true
   },
   "outputs": [],
   "source": [
    "def get_last_n_images(n):\n",
    "    p = Path('.')\n",
    "    pathlist = p.glob('filmpje_*.png')\n",
    "    pathlist = list(pathlist)\n",
    "    pathlist.sort(key=getnum)\n",
    "    if len(pathlist) > n:\n",
    "        return pathlist[-n:]\n",
    "    else:\n",
    "        return pathlist"
   ]
  },
  {
   "cell_type": "code",
   "execution_count": 49,
   "metadata": {
    "hidden": true
   },
   "outputs": [
    {
     "data": {
      "text/plain": [
       "[]"
      ]
     },
     "execution_count": 49,
     "metadata": {},
     "output_type": "execute_result"
    }
   ],
   "source": [
    "im_list =  get_last_n_images(5)\n",
    "im_list"
   ]
  },
  {
   "cell_type": "code",
   "execution_count": 51,
   "metadata": {
    "hidden": true
   },
   "outputs": [
    {
     "data": {
      "text/plain": [
       "0"
      ]
     },
     "execution_count": 51,
     "metadata": {},
     "output_type": "execute_result"
    }
   ],
   "source": [
    "def get_last_iterator(im_list):\n",
    "    if im_list == []:\n",
    "        return 0\n",
    "    else:\n",
    "        return int(str(im_list[-1]).split(\"_\")[-1].split('.')[0])\n",
    "get_last_iterator(im_list)"
   ]
  },
  {
   "cell_type": "markdown",
   "metadata": {
    "heading_collapsed": true
   },
   "source": [
    "# Run images"
   ]
  },
  {
   "cell_type": "code",
   "execution_count": 6,
   "metadata": {
    "hidden": true
   },
   "outputs": [],
   "source": [
    "def show_single_im(path, sleep=0.5):\n",
    "    img = cv2.imread(str(path))\n",
    "    cv2.imshow('image',img)\n",
    "    cv2.waitKey(50)\n",
    "    time.sleep(sleep)"
   ]
  },
  {
   "cell_type": "code",
   "execution_count": 9,
   "metadata": {
    "hidden": true
   },
   "outputs": [],
   "source": [
    "# def run_last_n_images(n):\n",
    "#     im_list = get_last_n_images(n)\n",
    "#     cv2.namedWindow('image', cv2.WINDOW_NORMAL)\n",
    "#     while True:\n",
    "#         for path in im_list:\n",
    "#             show_single_im(path)\n",
    "#         if cv2.waitKey(1) & 0xFF == ord('q'):\n",
    "#             break\n",
    "#         if cv2.waitKey(1) & 0xFF == ord('l'):\n",
    "#             # save new image\n",
    "#             img_name = \"filmpje_{}.png\".format(img_counter)\n",
    "#             cv2.imwrite(img_name, frame)\n",
    "#             img_counter += 1\n",
    "#             break\n",
    "#     cv2.destroyAllWindows()"
   ]
  },
  {
   "cell_type": "code",
   "execution_count": 10,
   "metadata": {
    "hidden": true
   },
   "outputs": [],
   "source": [
    "# print(get_last_n_images(5))"
   ]
  },
  {
   "cell_type": "code",
   "execution_count": 11,
   "metadata": {
    "hidden": true
   },
   "outputs": [],
   "source": [
    "# remove = im_list[-1]\n",
    "# os.remove(remove)\n",
    "# print(get_last_n_images(5))"
   ]
  },
  {
   "cell_type": "code",
   "execution_count": 10,
   "metadata": {
    "hidden": true
   },
   "outputs": [],
   "source": [
    "import cv2\n",
    "import time\n",
    "cam = cv2.VideoCapture(0)\n",
    "cam.grab()\n",
    "retval, frame = cam.retrieve(0)\n",
    "# _, frame = cam.read()\n",
    "cv2.imshow('image', frame)\n",
    "cv2.waitKey(5000)\n",
    "cam.release()\n",
    "cv2.destroyAllWindows()"
   ]
  },
  {
   "cell_type": "code",
   "execution_count": 1,
   "metadata": {
    "hidden": true
   },
   "outputs": [],
   "source": [
    "def get_single_image():\n",
    "    img_counter = 0\n",
    "    cam = cv2.VideoCapture(0)\n",
    "    while True:\n",
    "        ret, frame = cam.read()\n",
    "        cv2.imshow(\"image\", frame)\n",
    "        cv2.waitKey(1)\n",
    "        k = cv2.waitKey(1)\n",
    "\n",
    "        if k%256 == 27:\n",
    "            # ESC pressed\n",
    "            print(\"Escape hit, closing...\")\n",
    "            break\n",
    "        elif k%256 == 32:\n",
    "            # SPACE pressed\n",
    "            img_name = \"filmpje_{}.png\".format(img_counter)\n",
    "            cv2.imwrite(img_name, frame)\n",
    "            print(\"{} written!\".format(img_name))\n",
    "            img_counter += 1\n",
    "            break\n",
    "    cam.release()"
   ]
  },
  {
   "cell_type": "code",
   "execution_count": 2,
   "metadata": {
    "hidden": true
   },
   "outputs": [],
   "source": [
    "# get_single_image()"
   ]
  },
  {
   "cell_type": "code",
   "execution_count": 4,
   "metadata": {
    "hidden": true
   },
   "outputs": [],
   "source": [
    "def run_last_n_images_with_camframe(n, sleep=0.5):\n",
    "    im_list = get_last_n_images(n)\n",
    "    img_counter = get_last_iterator(im_list)\n",
    "    cv2.namedWindow('image', cv2.WINDOW_NORMAL)\n",
    "    if img_counter == 0:\n",
    "        get_single_image()\n",
    "    cam = cv2.VideoCapture(0)\n",
    "    while True:\n",
    "        for path in im_list:\n",
    "            show_single_im(path, sleep)\n",
    "        cam.grab()\n",
    "        retval, frame = cam.retrieve(0)\n",
    "        cv2.imshow('image', frame)\n",
    "        cv2.waitKey(int(sleep*1000))\n",
    "        k = cv2.waitKey(30)\n",
    "        if k%265 == 27:\n",
    "            break\n",
    "        elif k%265 == 108:\n",
    "            # 'j'; save new image, update img_counter and update im_list\n",
    "            img_name = \"filmpje_{}.png\".format(img_counter)\n",
    "            cv2.imwrite(img_name, frame)\n",
    "            img_counter += 1\n",
    "            im_list = get_last_n_images(n)\n",
    "        elif k%265 == 106:\n",
    "            # 'l'; remove last image, update img_counter and update im_list\n",
    "            remove = im_list[-1]\n",
    "            os.remove(remove)\n",
    "            img_counter -= 1\n",
    "            im_list = get_last_n_images(n)\n",
    "    cv2.destroyAllWindows()"
   ]
  },
  {
   "cell_type": "code",
   "execution_count": 5,
   "metadata": {
    "hidden": true
   },
   "outputs": [
    {
     "ename": "NameError",
     "evalue": "name 'get_last_n_images' is not defined",
     "output_type": "error",
     "traceback": [
      "\u001b[0;31m---------------------------------------------------------------------------\u001b[0m",
      "\u001b[0;31mNameError\u001b[0m                                 Traceback (most recent call last)",
      "\u001b[0;32m<ipython-input-5-3e4b4993e877>\u001b[0m in \u001b[0;36m<module>\u001b[0;34m()\u001b[0m\n\u001b[0;32m----> 1\u001b[0;31m \u001b[0mrun_last_n_images_with_camframe\u001b[0m\u001b[0;34m(\u001b[0m\u001b[0;36m5\u001b[0m\u001b[0;34m)\u001b[0m\u001b[0;34m\u001b[0m\u001b[0m\n\u001b[0m",
      "\u001b[0;32m<ipython-input-4-77effc805137>\u001b[0m in \u001b[0;36mrun_last_n_images_with_camframe\u001b[0;34m(n, sleep)\u001b[0m\n\u001b[1;32m      1\u001b[0m \u001b[0;32mdef\u001b[0m \u001b[0mrun_last_n_images_with_camframe\u001b[0m\u001b[0;34m(\u001b[0m\u001b[0mn\u001b[0m\u001b[0;34m,\u001b[0m \u001b[0msleep\u001b[0m\u001b[0;34m=\u001b[0m\u001b[0;36m0.5\u001b[0m\u001b[0;34m)\u001b[0m\u001b[0;34m:\u001b[0m\u001b[0;34m\u001b[0m\u001b[0m\n\u001b[0;32m----> 2\u001b[0;31m     \u001b[0mim_list\u001b[0m \u001b[0;34m=\u001b[0m \u001b[0mget_last_n_images\u001b[0m\u001b[0;34m(\u001b[0m\u001b[0mn\u001b[0m\u001b[0;34m)\u001b[0m\u001b[0;34m\u001b[0m\u001b[0m\n\u001b[0m\u001b[1;32m      3\u001b[0m     \u001b[0mimg_counter\u001b[0m \u001b[0;34m=\u001b[0m \u001b[0mget_last_iterator\u001b[0m\u001b[0;34m(\u001b[0m\u001b[0mim_list\u001b[0m\u001b[0;34m)\u001b[0m\u001b[0;34m\u001b[0m\u001b[0m\n\u001b[1;32m      4\u001b[0m     \u001b[0mcv2\u001b[0m\u001b[0;34m.\u001b[0m\u001b[0mnamedWindow\u001b[0m\u001b[0;34m(\u001b[0m\u001b[0;34m'image'\u001b[0m\u001b[0;34m,\u001b[0m \u001b[0mcv2\u001b[0m\u001b[0;34m.\u001b[0m\u001b[0mWINDOW_NORMAL\u001b[0m\u001b[0;34m)\u001b[0m\u001b[0;34m\u001b[0m\u001b[0m\n\u001b[1;32m      5\u001b[0m     \u001b[0;32mif\u001b[0m \u001b[0mimg_counter\u001b[0m \u001b[0;34m==\u001b[0m \u001b[0;36m0\u001b[0m\u001b[0;34m:\u001b[0m\u001b[0;34m\u001b[0m\u001b[0m\n",
      "\u001b[0;31mNameError\u001b[0m: name 'get_last_n_images' is not defined"
     ]
    }
   ],
   "source": [
    "run_last_n_images_with_camframe(5)"
   ]
  },
  {
   "cell_type": "code",
   "execution_count": 14,
   "metadata": {
    "hidden": true
   },
   "outputs": [],
   "source": [
    "import cv2\n",
    "cam = cv2.VideoCapture(0)\n",
    "while True:\n",
    "    cam.grab()\n",
    "    retval, frame = cam.retrieve(0)\n",
    "    cv2.imshow('image', frame)\n",
    "    if cv2.waitKey(1) & 0xFF == ord('q'):\n",
    "        break\n",
    "cv2.destroyAllWindows()"
   ]
  },
  {
   "cell_type": "code",
   "execution_count": null,
   "metadata": {
    "hidden": true
   },
   "outputs": [],
   "source": []
  },
  {
   "cell_type": "code",
   "execution_count": null,
   "metadata": {
    "hidden": true
   },
   "outputs": [],
   "source": []
  },
  {
   "cell_type": "code",
   "execution_count": null,
   "metadata": {
    "hidden": true
   },
   "outputs": [],
   "source": []
  },
  {
   "cell_type": "code",
   "execution_count": null,
   "metadata": {
    "hidden": true
   },
   "outputs": [],
   "source": []
  },
  {
   "cell_type": "code",
   "execution_count": 1,
   "metadata": {
    "hidden": true
   },
   "outputs": [],
   "source": [
    "import cv2\n",
    "import numpy as np\n",
    "import matplotlib.pyplot as plt\n",
    "import os\n",
    "from pathlib import Path\n",
    "import time\n",
    "%matplotlib inline"
   ]
  },
  {
   "cell_type": "code",
   "execution_count": 2,
   "metadata": {
    "hidden": true
   },
   "outputs": [],
   "source": [
    "def getnum(string):\n",
    "    return int(str(string).split('_')[-1].split('.')[0])"
   ]
  },
  {
   "cell_type": "code",
   "execution_count": 3,
   "metadata": {
    "hidden": true
   },
   "outputs": [],
   "source": [
    "def get_last_n_images(n):\n",
    "    p = Path('.')\n",
    "    pathlist = p.glob('*.jpg')\n",
    "    pathlist = list(pathlist)\n",
    "    pathlist.sort(key=getnum)\n",
    "    if len(pathlist) > n:\n",
    "        return pathlist[-n:]\n",
    "    else:\n",
    "        return pathlist"
   ]
  },
  {
   "cell_type": "code",
   "execution_count": 4,
   "metadata": {
    "hidden": true
   },
   "outputs": [],
   "source": [
    "def get_last_iterator(im_list):\n",
    "    return int(str(im_list[-1]).split(\"_\")[-1].split('.')[0])"
   ]
  },
  {
   "cell_type": "code",
   "execution_count": 5,
   "metadata": {
    "hidden": true
   },
   "outputs": [],
   "source": [
    "def show_single_im(path, sleep=0.5):\n",
    "    img = cv2.imread(str(path))\n",
    "    cv2.imshow('image',img)\n",
    "    cv2.waitKey(int(sleep*1000))"
   ]
  },
  {
   "cell_type": "code",
   "execution_count": 6,
   "metadata": {
    "hidden": true
   },
   "outputs": [],
   "source": [
    "def get_single_image():\n",
    "    img_counter = 0\n",
    "    cam = cv2.VideoCapture(1)\n",
    "    while True:\n",
    "        ret, frame = cam.read()\n",
    "        cv2.imshow(\"image\", frame)\n",
    "        cv2.waitKey(1)\n",
    "        k = cv2.waitKey(1)\n",
    "\n",
    "        if k%256 == 27:\n",
    "            # ESC pressed\n",
    "            print(\"Escape hit, closing...\")\n",
    "            break\n",
    "        elif k%256 == 32:\n",
    "            # SPACE pressed\n",
    "            img_name = \"filmpje_{}.jpg\".format(img_counter)\n",
    "            cv2.imwrite(img_name, frame)\n",
    "            print(\"{} written!\".format(img_name))\n",
    "            img_counter += 1\n",
    "            play_sound()\n",
    "            break\n",
    "    cam.release()"
   ]
  },
  {
   "cell_type": "code",
   "execution_count": 7,
   "metadata": {
    "hidden": true
   },
   "outputs": [],
   "source": [
    "def play_sound(duration=0.1):\n",
    "    freq = 440  # Hz\n",
    "    os.system('play --no-show-progress --null --channels 1 synth %s sine %f' % (duration, freq))"
   ]
  },
  {
   "cell_type": "code",
   "execution_count": 8,
   "metadata": {
    "hidden": true
   },
   "outputs": [],
   "source": [
    "def run_last_n_images_with_camframe(n, sleep=0.5):\n",
    "    im_list = get_last_n_images(n)\n",
    "    cv2.namedWindow('image', cv2.WINDOW_NORMAL)\n",
    "    if im_list == []:\n",
    "        get_single_image()\n",
    "    im_list = get_last_n_images(n)\n",
    "    img_counter = get_last_iterator(im_list)\n",
    "    while True:\n",
    "        cam = cv2.VideoCapture(1)\n",
    "        for path in im_list:\n",
    "            show_single_im(path, sleep)\n",
    "        cam.grab()\n",
    "        retval, frame = cam.retrieve(0)\n",
    "        cv2.imshow('image', frame)\n",
    "        cv2.waitKey(int(sleep*1000))\n",
    "        cam.release()\n",
    "        k = cv2.waitKey(30)\n",
    "        if k%265 == 27:\n",
    "            break\n",
    "        elif k%265 == 32:\n",
    "            # 'j'; save new image, update img_counter and update im_list\n",
    "            play_sound()\n",
    "            img_name = \"filmpje_{}.jpg\".format(img_counter)\n",
    "            cv2.imwrite(img_name, frame)\n",
    "            img_counter += 1\n",
    "            im_list = get_last_n_images(n)\n",
    "            time.sleep(0.5)\n",
    "        elif k%265 == 106:\n",
    "            # 'l'; remove last image, update img_counter and update im_list\n",
    "            remove = im_list[-1]\n",
    "            os.remove(remove)\n",
    "            img_counter -= 1\n",
    "            im_list = get_last_n_images(n)\n",
    "    cv2.destroyAllWindows()"
   ]
  },
  {
   "cell_type": "code",
   "execution_count": 11,
   "metadata": {
    "hidden": true
   },
   "outputs": [
    {
     "name": "stdout",
     "output_type": "stream",
     "text": [
      "filmpje_0.jpg written!\n"
     ]
    }
   ],
   "source": [
    "run_last_n_images_with_camframe(30, 0.1)"
   ]
  },
  {
   "cell_type": "code",
   "execution_count": null,
   "metadata": {
    "hidden": true
   },
   "outputs": [],
   "source": []
  },
  {
   "cell_type": "markdown",
   "metadata": {},
   "source": [
    "# tweede versie"
   ]
  },
  {
   "cell_type": "code",
   "execution_count": 1,
   "metadata": {},
   "outputs": [],
   "source": [
    "import cv2\n",
    "import numpy as np\n",
    "import matplotlib.pyplot as plt\n",
    "import os\n",
    "from pathlib import Path\n",
    "import time\n",
    "%matplotlib inline"
   ]
  },
  {
   "cell_type": "code",
   "execution_count": 2,
   "metadata": {},
   "outputs": [],
   "source": [
    "def getnum(string):\n",
    "    return int(str(string).split('_')[-1].split('.')[0])"
   ]
  },
  {
   "cell_type": "code",
   "execution_count": 3,
   "metadata": {},
   "outputs": [],
   "source": [
    "def get_last_n_images(n):\n",
    "    p = Path('.')\n",
    "    pathlist = p.glob('*.jpg')\n",
    "    pathlist = list(pathlist)\n",
    "    pathlist.sort(key=getnum)\n",
    "    if len(pathlist) > n:\n",
    "        return pathlist[-n:]\n",
    "    else:\n",
    "        return pathlist"
   ]
  },
  {
   "cell_type": "code",
   "execution_count": 4,
   "metadata": {},
   "outputs": [],
   "source": [
    "def get_last_iterator(im_list):\n",
    "    return int(str(im_list[-1]).split(\"_\")[-1].split('.')[0])"
   ]
  },
  {
   "cell_type": "code",
   "execution_count": 5,
   "metadata": {},
   "outputs": [],
   "source": [
    "def show_single_im(path, sleep=0.5):\n",
    "    img = cv2.imread(str(path))\n",
    "    cv2.imshow('image',img)\n",
    "    cv2.waitKey(int(sleep*1000))"
   ]
  },
  {
   "cell_type": "code",
   "execution_count": 6,
   "metadata": {},
   "outputs": [],
   "source": [
    "def get_single_image():\n",
    "    img_counter = 0\n",
    "    cam = cv2.VideoCapture(1)\n",
    "    while True:\n",
    "        ret, frame = cam.read()\n",
    "        cv2.imshow(\"image\", frame)\n",
    "        cv2.waitKey(1)\n",
    "        k = cv2.waitKey(1)\n",
    "\n",
    "        if k%256 == 27:\n",
    "            # ESC pressed\n",
    "            print(\"Escape hit, closing...\")\n",
    "            break\n",
    "        elif k%256 == 32:\n",
    "            # SPACE pressed\n",
    "            img_name = \"filmpje_{}.jpg\".format(img_counter)\n",
    "            cv2.imwrite(img_name, frame)\n",
    "            print(\"{} written!\".format(img_name))\n",
    "            img_counter += 1\n",
    "            play_sound()\n",
    "            break\n",
    "    cam.release()"
   ]
  },
  {
   "cell_type": "code",
   "execution_count": 7,
   "metadata": {},
   "outputs": [],
   "source": [
    "def play_sound(duration=0.1):\n",
    "    freq = 440  # Hz\n",
    "    os.system('play --no-show-progress --null --channels 1 synth %s sine %f' % (duration, freq))"
   ]
  },
  {
   "cell_type": "code",
   "execution_count": 8,
   "metadata": {},
   "outputs": [],
   "source": [
    "def run_last_n_images_with_camframe(n, sleep=0.5):\n",
    "    im_list = get_last_n_images(n)\n",
    "    cv2.namedWindow('image', cv2.WINDOW_NORMAL)\n",
    "    if im_list == []:\n",
    "        get_single_image()\n",
    "    im_list = get_last_n_images(n)\n",
    "    img_counter = get_last_iterator(im_list)\n",
    "    while True:\n",
    "        cam = cv2.VideoCapture(1)\n",
    "#         cam.set(cv2.CAP_PROP_BUFFERSIZE, 1)\n",
    "#         cam.set(cv2.CAP_PROP_FRAME_WIDTH,1280);\n",
    "#         cam.set(cv2.CAP_PROP_FRAME_HEIGHT,720);\n",
    "        for path in im_list:\n",
    "            show_single_im(path, sleep)\n",
    "        cam.grab()\n",
    "        retval, frame = cam.retrieve(0)\n",
    "        cv2.imshow('image', frame)\n",
    "        cv2.waitKey(int(sleep*1000))\n",
    "        cam.release()\n",
    "        k = cv2.waitKey(30)\n",
    "        if k%265 == 27:\n",
    "            break\n",
    "        elif k%265 == 32:\n",
    "            # 'j'; save new image, update img_counter and update im_list\n",
    "            play_sound()\n",
    "            img_name = \"filmpje_{}.jpg\".format(img_counter)\n",
    "            cv2.imwrite(img_name, frame)\n",
    "            img_counter += 1\n",
    "            im_list = get_last_n_images(n)\n",
    "            time.sleep(0.5)\n",
    "        elif k%265 == 106:\n",
    "            # 'l'; remove last image, update img_counter and update im_list\n",
    "            remove = im_list[-1]\n",
    "            os.remove(remove)\n",
    "            img_counter -= 1\n",
    "            im_list = get_last_n_images(n)\n",
    "    cv2.destroyAllWindows()"
   ]
  },
  {
   "cell_type": "code",
   "execution_count": 10,
   "metadata": {},
   "outputs": [
    {
     "ename": "error",
     "evalue": "OpenCV(3.4.2) /io/opencv/modules/highgui/src/window.cpp:356: error: (-215:Assertion failed) size.width>0 && size.height>0 in function 'imshow'\n",
     "output_type": "error",
     "traceback": [
      "\u001b[0;31m---------------------------------------------------------------------------\u001b[0m",
      "\u001b[0;31merror\u001b[0m                                     Traceback (most recent call last)",
      "\u001b[0;32m<ipython-input-10-e23ebab7bb25>\u001b[0m in \u001b[0;36m<module>\u001b[0;34m()\u001b[0m\n\u001b[0;32m----> 1\u001b[0;31m \u001b[0mrun_last_n_images_with_camframe\u001b[0m\u001b[0;34m(\u001b[0m\u001b[0;36m180\u001b[0m\u001b[0;34m,\u001b[0m \u001b[0;36m0.1\u001b[0m\u001b[0;34m)\u001b[0m\u001b[0;34m\u001b[0m\u001b[0m\n\u001b[0m",
      "\u001b[0;32m<ipython-input-8-3237327deaa3>\u001b[0m in \u001b[0;36mrun_last_n_images_with_camframe\u001b[0;34m(n, sleep)\u001b[0m\n\u001b[1;32m     15\u001b[0m         \u001b[0mcam\u001b[0m\u001b[0;34m.\u001b[0m\u001b[0mgrab\u001b[0m\u001b[0;34m(\u001b[0m\u001b[0;34m)\u001b[0m\u001b[0;34m\u001b[0m\u001b[0m\n\u001b[1;32m     16\u001b[0m         \u001b[0mretval\u001b[0m\u001b[0;34m,\u001b[0m \u001b[0mframe\u001b[0m \u001b[0;34m=\u001b[0m \u001b[0mcam\u001b[0m\u001b[0;34m.\u001b[0m\u001b[0mretrieve\u001b[0m\u001b[0;34m(\u001b[0m\u001b[0;36m0\u001b[0m\u001b[0;34m)\u001b[0m\u001b[0;34m\u001b[0m\u001b[0m\n\u001b[0;32m---> 17\u001b[0;31m         \u001b[0mcv2\u001b[0m\u001b[0;34m.\u001b[0m\u001b[0mimshow\u001b[0m\u001b[0;34m(\u001b[0m\u001b[0;34m'image'\u001b[0m\u001b[0;34m,\u001b[0m \u001b[0mframe\u001b[0m\u001b[0;34m)\u001b[0m\u001b[0;34m\u001b[0m\u001b[0m\n\u001b[0m\u001b[1;32m     18\u001b[0m         \u001b[0mcv2\u001b[0m\u001b[0;34m.\u001b[0m\u001b[0mwaitKey\u001b[0m\u001b[0;34m(\u001b[0m\u001b[0mint\u001b[0m\u001b[0;34m(\u001b[0m\u001b[0msleep\u001b[0m\u001b[0;34m*\u001b[0m\u001b[0;36m1000\u001b[0m\u001b[0;34m)\u001b[0m\u001b[0;34m)\u001b[0m\u001b[0;34m\u001b[0m\u001b[0m\n\u001b[1;32m     19\u001b[0m         \u001b[0mcam\u001b[0m\u001b[0;34m.\u001b[0m\u001b[0mrelease\u001b[0m\u001b[0;34m(\u001b[0m\u001b[0;34m)\u001b[0m\u001b[0;34m\u001b[0m\u001b[0m\n",
      "\u001b[0;31merror\u001b[0m: OpenCV(3.4.2) /io/opencv/modules/highgui/src/window.cpp:356: error: (-215:Assertion failed) size.width>0 && size.height>0 in function 'imshow'\n"
     ]
    }
   ],
   "source": [
    "run_last_n_images_with_camframe(180, 0.1)"
   ]
  },
  {
   "cell_type": "code",
   "execution_count": null,
   "metadata": {},
   "outputs": [],
   "source": []
  },
  {
   "cell_type": "code",
   "execution_count": null,
   "metadata": {},
   "outputs": [],
   "source": [
    "cam"
   ]
  },
  {
   "cell_type": "code",
   "execution_count": null,
   "metadata": {},
   "outputs": [],
   "source": []
  },
  {
   "cell_type": "code",
   "execution_count": null,
   "metadata": {},
   "outputs": [],
   "source": []
  },
  {
   "cell_type": "markdown",
   "metadata": {
    "heading_collapsed": true
   },
   "source": [
    "# Blend images"
   ]
  },
  {
   "cell_type": "code",
   "execution_count": 10,
   "metadata": {
    "hidden": true
   },
   "outputs": [],
   "source": [
    "def blend_images(img_counter):\n",
    "    alpha = 0.5\n",
    "    cam = cv2.VideoCapture(0)\n",
    "    cv2.namedWindow('image', cv2.WINDOW_NORMAL)\n",
    "    while True:\n",
    "        ret, frame = cam.read()\n",
    "        src1 = cv2.imread('opencv_frame_4.png')\n",
    "        src2 = frame\n",
    "        dst = cv2.addWeighted(src1, alpha, src2, 1.0-alpha, 0.0)\n",
    "        cv2.imshow('image', dst)\n",
    "        if cv2.waitKey(1) & 0xFF == ord('l'):\n",
    "            # \n",
    "            img_name = \"filmpje_{}.png\".format(img_counter)\n",
    "            cv2.imwrite(img_name, frame)\n",
    "            img_counter += 1\n",
    "            break\n",
    "        elif cv2.waitKey(1) & 0xFF == ord('k'):\n",
    "            iterator = (iterator+1)%2\n",
    "            break\n",
    "#         elif cv2.waitKey(1) & 0xFF == ord('j'):\n",
    "#             iterator = (iterator+1)%2\n",
    "#             break\n",
    "    cv2.destroyAllWindows()"
   ]
  },
  {
   "cell_type": "code",
   "execution_count": 9,
   "metadata": {
    "hidden": true
   },
   "outputs": [],
   "source": [
    "img_counter = 0\n",
    "blend_images(img_counter)"
   ]
  },
  {
   "cell_type": "code",
   "execution_count": null,
   "metadata": {
    "hidden": true
   },
   "outputs": [],
   "source": [
    "iterator = 0"
   ]
  },
  {
   "cell_type": "code",
   "execution_count": 30,
   "metadata": {
    "hidden": true
   },
   "outputs": [
    {
     "data": {
      "text/plain": [
       "1"
      ]
     },
     "execution_count": 30,
     "metadata": {},
     "output_type": "execute_result"
    }
   ],
   "source": [
    "iterator = (iterator+1)%2\n",
    "iterator"
   ]
  },
  {
   "cell_type": "markdown",
   "metadata": {
    "heading_collapsed": true
   },
   "source": [
    "# Rest"
   ]
  },
  {
   "cell_type": "code",
   "execution_count": 8,
   "metadata": {
    "hidden": true
   },
   "outputs": [],
   "source": [
    "cv2.namedWindow('image', cv2.WINDOW_NORMAL)\n",
    "while True:\n",
    "    cv2.imshow('image',img0)\n",
    "    cv2.waitKey(1)\n",
    "    time.sleep(0.05)\n",
    "    cv2.imshow('image',img1)\n",
    "    cv2.waitKey(1)\n",
    "    time.sleep(0.05)\n",
    "    cv2.imshow('image',img2)\n",
    "    cv2.waitKey(1)\n",
    "    time.sleep(0.05)\n",
    "    cv2.imshow('image',img3)\n",
    "    cv2.waitKey(1)\n",
    "    time.sleep(0.05)\n",
    "    if cv2.waitKey(1) & 0xFF == ord('q'):\n",
    "        break\n",
    "cv2.destroyAllWindows()"
   ]
  },
  {
   "cell_type": "code",
   "execution_count": null,
   "metadata": {
    "hidden": true
   },
   "outputs": [],
   "source": []
  },
  {
   "cell_type": "code",
   "execution_count": null,
   "metadata": {
    "hidden": true
   },
   "outputs": [],
   "source": []
  },
  {
   "cell_type": "code",
   "execution_count": null,
   "metadata": {
    "hidden": true
   },
   "outputs": [],
   "source": []
  },
  {
   "cell_type": "code",
   "execution_count": null,
   "metadata": {
    "hidden": true
   },
   "outputs": [],
   "source": []
  },
  {
   "cell_type": "code",
   "execution_count": 32,
   "metadata": {
    "hidden": true
   },
   "outputs": [
    {
     "data": {
      "text/plain": [
       "[PosixPath('opencv_frame_0.png'),\n",
       " PosixPath('opencv_frame_1.png'),\n",
       " PosixPath('opencv_frame_2.png'),\n",
       " PosixPath('opencv_frame_3.png'),\n",
       " PosixPath('opencv_frame_4.png'),\n",
       " PosixPath('opencv_frame_5.png'),\n",
       " PosixPath('opencv_frame_6.png'),\n",
       " PosixPath('opencv_frame_7.png'),\n",
       " PosixPath('opencv_frame_8.png')]"
      ]
     },
     "execution_count": 32,
     "metadata": {},
     "output_type": "execute_result"
    }
   ],
   "source": []
  },
  {
   "cell_type": "code",
   "execution_count": null,
   "metadata": {
    "hidden": true
   },
   "outputs": [],
   "source": []
  },
  {
   "cell_type": "code",
   "execution_count": null,
   "metadata": {
    "hidden": true
   },
   "outputs": [],
   "source": []
  },
  {
   "cell_type": "code",
   "execution_count": 9,
   "metadata": {
    "hidden": true
   },
   "outputs": [],
   "source": [
    "cam = cv2.VideoCapture(0)\n",
    "ret, frame = cam.read()"
   ]
  },
  {
   "cell_type": "code",
   "execution_count": 10,
   "metadata": {
    "hidden": true
   },
   "outputs": [
    {
     "data": {
      "text/plain": [
       "True"
      ]
     },
     "execution_count": 10,
     "metadata": {},
     "output_type": "execute_result"
    }
   ],
   "source": [
    "frame = cv2.cvtColor(frame, cv2.COLOR_BGR2RGB)\n",
    "cv2.imwrite('sof.jpg', frame)\n",
    "# plt.show()"
   ]
  },
  {
   "cell_type": "code",
   "execution_count": null,
   "metadata": {
    "hidden": true
   },
   "outputs": [],
   "source": [
    "cv2.namedWindow('hmd_screen', cv2.WINDOW_NORMAL)"
   ]
  },
  {
   "cell_type": "code",
   "execution_count": null,
   "metadata": {
    "hidden": true
   },
   "outputs": [],
   "source": [
    "import cv2\n",
    "\n",
    "cam = cv2.VideoCapture(0)\n",
    "\n",
    "cv2.namedWindow(\"test\")\n",
    "\n",
    "img_counter = 0\n",
    "\n",
    "while True:\n",
    "    ret, frame = cam.read()\n",
    "    cv2.imshow(\"test\", frame)\n",
    "    if not ret:\n",
    "        break\n",
    "    k = cv2.waitKey(1)\n",
    "\n",
    "    if k%256 == 27:\n",
    "        # ESC pressed\n",
    "        print(\"Escape hit, closing...\")\n",
    "        break\n",
    "    elif k%256 == 32:\n",
    "        # SPACE pressed\n",
    "        img_name = \"opencv_frame_{}.png\".format(img_counter)\n",
    "        cv2.imwrite(img_name, frame)\n",
    "        print(\"{} written!\".format(img_name))\n",
    "        img_counter += 1"
   ]
  },
  {
   "cell_type": "code",
   "execution_count": 11,
   "metadata": {
    "hidden": true
   },
   "outputs": [],
   "source": [
    "cam.release()\n",
    "\n",
    "cv2.destroyAllWindows()"
   ]
  },
  {
   "cell_type": "code",
   "execution_count": null,
   "metadata": {
    "hidden": true
   },
   "outputs": [],
   "source": []
  }
 ],
 "metadata": {
  "kernelspec": {
   "display_name": "Python [conda env:fastai]",
   "language": "python",
   "name": "conda-env-fastai-py"
  },
  "language_info": {
   "codemirror_mode": {
    "name": "ipython",
    "version": 3
   },
   "file_extension": ".py",
   "mimetype": "text/x-python",
   "name": "python",
   "nbconvert_exporter": "python",
   "pygments_lexer": "ipython3",
   "version": "3.6.6"
  }
 },
 "nbformat": 4,
 "nbformat_minor": 2
}
